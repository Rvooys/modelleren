{
 "cells": [
  {
   "cell_type": "markdown",
   "metadata": {},
   "source": [
    "# Uitwerkingen LES 4\n",
    "\n",
    "Opdracht 1 Som van Veelvouden van 5 en 7\n",
    "\n",
    "Bekijk de getallen 5, 7, 10, 14, 15, 20, 21, 25, 28, 30, 35, ... \n",
    "Dit zijn de eerste getallen die door 5 OF door 7 deelbaar zijn, of allebei.\n",
    "\n",
    "De som van de eerste twee getallen is 12, de som van de eerste drie getallen is 22, etcetera. \n",
    "\n",
    "Vind met python de som van alle veelvouden van 5 of 7 onder de 2000.\n",
    "\n"
   ]
  },
  {
   "cell_type": "code",
   "execution_count": 4,
   "metadata": {},
   "outputs": [
    {
     "name": "stdout",
     "output_type": "stream",
     "text": [
      "626430\n"
     ]
    }
   ],
   "source": [
    "getal = 0\n",
    "som = 0\n",
    "while getal < 2000:\n",
    "  if(getal%5 == 0 or getal%7  == 0):\n",
    "    som = getal+som\n",
    "  getal = getal+1\n",
    "\n",
    "print(som)"
   ]
  },
  {
   "cell_type": "markdown",
   "metadata": {},
   "source": [
    "# Opdracht 2 De som van even Fibonacci getallen.\n",
    "\n",
    "De fibonacci rij kan als volgt worden gedefinieerd:  \n",
    "u0 = 1  \n",
    "u1 = 1  \n",
    "u(n) = u(n-1)+ u(n-2)  \n",
    "\n",
    "In woorden: start met de getallen 1, 1 dan is de volgende term de som van de twee voorgaande termen.\n",
    "Je krijgt dan 1, 1, 2, 3, 5, 8, 13, 21, 34,...\n",
    "\n",
    "Genereer de lijst van Fibonacci getallen tot 4.000.000, en vind de som van de oneven Fibonaccigetallen (1+1+3+5+13+...)\n",
    "\n"
   ]
  },
  {
   "cell_type": "code",
   "execution_count": 12,
   "metadata": {},
   "outputs": [
    {
     "name": "stdout",
     "output_type": "stream",
     "text": [
      "[1, 1, 2, 3, 5, 8]\n",
      "10\n"
     ]
    }
   ],
   "source": [
    "def fibo(f1,f2, grootte):\n",
    "    fibolijst = [f1, f2]\n",
    "    f3=f1+f2\n",
    "    while f1+f2<grootte:\n",
    "        f3 = f1+f2\n",
    "        fibolijst.append(f3)\n",
    "        f1 = fibolijst[-2]\n",
    "        f2 = fibolijst[-1]\n",
    "    return fibolijst\n",
    "\n",
    "fiblijst = fibo(1,1,10)\n",
    "print(fiblijst)\n",
    "som = 0\n",
    "for fib in fiblijst:\n",
    "    if fib%2 == 1:\n",
    "        som = som+fib\n",
    "print(som)\n",
    "    "
   ]
  },
  {
   "cell_type": "markdown",
   "metadata": {},
   "source": [
    "# Opdracht 3 Grootste Palindroom Product\n",
    "\n",
    "Een palindroom getal is hetzelfde als je het van links naar rechts leest als andersom. Bijvoorbeeld 12321.\n",
    "\n",
    "9009 = 91 x 99 is het grootste palindroomgetal dat je kan maken met twee tweecijferige getallen (91 en 99).\n",
    "\n",
    "Vind de grootste palindroomgetal dat je kan maken met twee driecijferige getallen\n",
    "\n"
   ]
  },
  {
   "cell_type": "code",
   "execution_count": 37,
   "metadata": {},
   "outputs": [
    {
     "name": "stdout",
     "output_type": "stream",
     "text": [
      "906609\n"
     ]
    }
   ],
   "source": [
    "def ispalindroom(getal):  # het gaat om driecijferige getallen, het grootste getal dat niet met 0 begint is 999*999 = 999801 en kleinste 12.321, dus het getal heeft of 5 of 6 cijfers\n",
    "    # elk getal kan je opdelen in duizendtallen, honderdtallen, tientallen en eenheden. zo is 2351 = 2*1000 + 3*100+5*10+1. Dat gebeurd hieronder\n",
    "    # er is een snellere manier, vraag maar aan chatgpt\n",
    "    \n",
    "    if getal>10000 and getal<100000:\n",
    "        a = getal // 10000\n",
    "        b = (getal % 10000) // 1000\n",
    "        c = (getal % 1000) // 100\n",
    "        d =(getal%100)//10\n",
    "        e = getal%10\n",
    "        if(a*10000+b*1000+c*100+d*10+e == e*10000+d*1000+c*100+b*10+a): #dit is een palindroomgetal, als abcde = edcba\n",
    "            return True\n",
    "    elif(getal>100000 and getal<1000000):\n",
    "        a = getal // 100000\n",
    "        b = (getal%100000)//10000\n",
    "        c = (getal % 10000) // 1000\n",
    "        d =(getal%1000)//100\n",
    "        e = (getal%100)//10\n",
    "        f = getal%10   \n",
    "        if(a*100000 + b*10000+c*1000+d*100+e*10+f == f*100000+e*10000+d*1000+c*100+b*10+a):\n",
    "            \n",
    "            return True\n",
    "    else:\n",
    "        \n",
    "        return False\n",
    "        \n",
    "\n",
    "grootstepalindroom = 0\n",
    "for i in range(100,1000):\n",
    "    for j in range(i, 1000):\n",
    "        getal = i*j\n",
    "        if(ispalindroom(getal)):\n",
    "            if(getal>grootstepalindroom):\n",
    "                grootstepalindroom = getal\n",
    "    \n",
    "print(grootstepalindroom)"
   ]
  },
  {
   "cell_type": "code",
   "execution_count": 16,
   "metadata": {},
   "outputs": [
    {
     "data": {
      "text/plain": [
       "5"
      ]
     },
     "execution_count": 16,
     "metadata": {},
     "output_type": "execute_result"
    }
   ],
   "source": [
    "521//100"
   ]
  },
  {
   "cell_type": "markdown",
   "metadata": {},
   "source": [
    "# Opdracht 4 Een specifieke pythagorastriplet\n",
    "\n",
    "(Zie ook les 2)  Een pythagoras triplet zijn drie gehele positieve getallen (a, b, c) met a < b < c waarvoor geldt:  a^2 + b^2 = c^2.  \n",
    "\n",
    "Er is precies een pythagoras triplet waarvoor geldt a+b+c = 1000.\n",
    "\n",
    "Genereer het product abc."
   ]
  },
  {
   "cell_type": "code",
   "execution_count": 41,
   "metadata": {},
   "outputs": [
    {
     "name": "stdout",
     "output_type": "stream",
     "text": [
      "31875000\n"
     ]
    }
   ],
   "source": [
    "for a in range(1, 500):  # a moet kleiner zijn dan 500, want a < b < c\n",
    "    for b in range(a + 1, 500):  # b moet groter zijn dan a\n",
    "        c = 1000 - a - b  # c volgt direct uit de som\n",
    "        if a**2 + b**2 == c**2:  # Check Pythagorese relatie\n",
    "            print(a*b*c)"
   ]
  }
 ],
 "metadata": {
  "kernelspec": {
   "display_name": "Python 3",
   "language": "python",
   "name": "python3"
  },
  "language_info": {
   "codemirror_mode": {
    "name": "ipython",
    "version": 3
   },
   "file_extension": ".py",
   "mimetype": "text/x-python",
   "name": "python",
   "nbconvert_exporter": "python",
   "pygments_lexer": "ipython3",
   "version": "3.13.0"
  }
 },
 "nbformat": 4,
 "nbformat_minor": 2
}
