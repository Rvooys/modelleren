{
 "cells": [
  {
   "cell_type": "markdown",
   "metadata": {},
   "source": [
    "# Opdracht 1\n",
    "\n",
    "Schrijf een functie genaamd `parabool(a,b,c,xstart,xeind,stapgrootte)`, dat de functie f(x) = ax^2 +bx+c definieert.\n",
    "\n",
    "Het kwadraat van een getal krijg je via `x**2` of simpelweg `x*x`.\n",
    "\n",
    "Roep vervolgens parabool(1, -6, 9, -5, 2, 0.01) op \n",
    "\n"
   ]
  },
  {
   "cell_type": "code",
   "execution_count": null,
   "metadata": {},
   "outputs": [
    {
     "ename": "ModuleNotFoundError",
     "evalue": "No module named 'matplotlib'",
     "output_type": "error",
     "traceback": [
      "\u001b[1;31m---------------------------------------------------------------------------\u001b[0m",
      "\u001b[1;31mModuleNotFoundError\u001b[0m                       Traceback (most recent call last)",
      "Cell \u001b[1;32mIn[7], line 1\u001b[0m\n\u001b[1;32m----> 1\u001b[0m \u001b[38;5;28;01mimport\u001b[39;00m \u001b[38;5;21;01mmatplotlib\u001b[39;00m\u001b[38;5;21;01m.\u001b[39;00m\u001b[38;5;21;01mpyplot\u001b[39;00m \u001b[38;5;28;01mas\u001b[39;00m \u001b[38;5;21;01mplt\u001b[39;00m \n\u001b[0;32m      2\u001b[0m get_ipython()\u001b[38;5;241m.\u001b[39mrun_line_magic(\u001b[38;5;124m'\u001b[39m\u001b[38;5;124mmatplotlib\u001b[39m\u001b[38;5;124m'\u001b[39m, \u001b[38;5;124m'\u001b[39m\u001b[38;5;124minline\u001b[39m\u001b[38;5;124m'\u001b[39m)\n\u001b[0;32m      4\u001b[0m \u001b[38;5;28;01mdef\u001b[39;00m \u001b[38;5;21mparabool\u001b[39m(a,b,c,xstart,xeind,stapgrootte):  \n",
      "\u001b[1;31mModuleNotFoundError\u001b[0m: No module named 'matplotlib'"
     ]
    }
   ],
   "source": [
    "import matplotlib.pyplot as plt \n",
    "%matplotlib inline    \n",
    " \n",
    "def parabool(a,b,c,xstart,xeind,stapgrootte):  \n",
    "  y=[xstart**2*a+b*xstart+c]                         \n",
    "  x=[xstart]                          \n",
    "  xwaarde = xstart                       \n",
    "  while xwaarde < xeind:                 \n",
    "    xwaarde = xwaarde+stapgrootte      \n",
    "    ywaarde = a*xwaarde**2 +b*xwaarde+c             \n",
    "    x.append(xwaarde)                   \n",
    "    y.append(ywaarde)                   \n",
    "  return x,y\n",
    "\n",
    "x,y = parabool(1, -6, 9, -5, 2, 0.01)\n",
    "\n",
    "print(x,y)\n",
    "\n",
    "\n",
    "plt.figure(figsize=(10,10))             # hiermee geven we aan dat we een figuur willen maken van 10 bij 10. Hierin willen we een plot maken. Dit kan je weglaten, dan bepaald Python de grootte\n",
    "plt.plot(x, y, 'g-')                    # hierin wordt aangegeven WAT we willen plotten: wij willen horizontaal de x-waarden en verticaal de y-waarden. Daarna kan je de vorm van de grafiek aangeven: 'b-' geeft aan dat het een Blauwe lijn (-) moet zijn\n",
    "plt.title('De parabool y=ax+b')             # je kan een titel geven voor het hele diagram (hoeft niet per se bij wiskunde, bij natuurkunde vaak wel!)\n",
    "plt.xlabel('x')                         # label je x-as. Bij wiskunde hebben we niet echt eenheden, bij natuurkunde zou er bijvoorbeeld tijd (s) kunnen staan\n",
    "plt.ylabel('y')                         # label je y-as. Bij wiskunde hebben we niet echt eenheden, bij natuurkunde zou er bijvoorbeeld snelheid (m/s) kunnen staan\n",
    "      \n",
    "plt.grid()                              \n",
    "plt.show()                              \n"
   ]
  },
  {
   "cell_type": "markdown",
   "metadata": {},
   "source": [
    "\n",
    "# EINDOPDRACHT\n",
    "\n",
    "Deze opdracht bestaat uit meerdere delen.\n",
    "\n",
    "1) DEFINIEER een functie `oplossingenplotter(a,b,c)` dat de oplossingen van `a*x^2 +b*x+c =0` teruggeeft en weergeeft in de plot. Denk na over bestaan van 0, 1 of 2 oplossingen en hoe dat uitgespuugd wordt door je functie. Gebruik hiertoe je uitwerking van de vorige opdracht.\n",
    "\n",
    "2) plot de grafiek van deze functie, en highlight met een markerking de (bijvoorbeeld met plt.scatter(...) ) de oplossingen. Zie als voorbeeld de 'lijn' helemaal bovenin hoe je dat aan kan pakken met de grootte van de assen EN het definieren van de x-waarden en y-waarden. Zorg dat rond de oplossingen geplot wordt (tip: als x1 de linker en x2 de rechter oplossing is, plot dan bijvoorbeeld op het interval [x1 - 1, x2 + 1]. ). Dit plotten gebeurd dus BINNEN de definitie nog (dat is makkelijker)\n",
    "\n",
    "3) Voer dit uit met de functie oplossingenplotter(1, -6, 9) die de oplossingen plot van x^2 -6x + 9 = 0. Werk deze oplossing evt met de hand uit om te kijken of je programma correc werkt\n",
    "\n",
    "Om je op weg te helpen hieronder het SKELET, maar zorg zelf voor de invulling en correcte uitwerking"
   ]
  },
  {
   "cell_type": "code",
   "execution_count": null,
   "metadata": {},
   "outputs": [],
   "source": [
    "import numpy as np\n",
    "from matplotlib import pyplot as plt\n",
    "%matplotlib inline    \n",
    "\n",
    "def oplossingplotter(a,b,c):\n",
    "    D = b**2-4*a*c\n",
    "    if(D>0):\n",
    "        x1 = (-b-np.sqrt(D))/(2*a)\n",
    "        x2 = (-b+np.sqrt(D))/(2*a)\n",
    "    elif (D==0):\n",
    "        x1 = -b/2*a\n",
    "        x2 = x1\n",
    "    elif (D<0):\n",
    "        x1 = \"\"\n",
    "        x2 = \"\"\n",
    "    return x1,x2\n",
    "\n",
    "def parabool(a,b,c,xstart,xeind,stapgrootte):  \n",
    "  y=[xstart**2*a+b*xstart+c]                         \n",
    "  x=[xstart]                          \n",
    "  xwaarde = xstart                       \n",
    "  while xwaarde < xeind:                 \n",
    "    xwaarde = xwaarde+stapgrootte      \n",
    "    ywaarde = a*xwaarde**2 +b*xwaarde+c             \n",
    "    x.append(xwaarde)                   \n",
    "    y.append(ywaarde)                   \n",
    "  return x,y\n",
    "\n",
    "a= 1\n",
    "b= -6\n",
    "c=  9\n",
    "x1, x2= oplossingplotter(a,b,c)\n",
    "x,y=parabool(a, b, c, x1-1, x2+1, 0.01)\n",
    "\n",
    "\n",
    "plt.figure(figsize=(10,10))            \n",
    "plt.plot(x, y, 'g-')                    \n",
    "plt.xlabel('x')                         \n",
    "plt.ylabel('y')                         \n",
    "plt.scatter([x1,x2],[0,0],marker='x',c='r') \n",
    "plt.grid()                              \n",
    "plt.show()                        \n"
   ]
  }
 ],
 "metadata": {
  "kernelspec": {
   "display_name": "Python 3",
   "language": "python",
   "name": "python3"
  },
  "language_info": {
   "codemirror_mode": {
    "name": "ipython",
    "version": 3
   },
   "file_extension": ".py",
   "mimetype": "text/x-python",
   "name": "python",
   "nbconvert_exporter": "python",
   "pygments_lexer": "ipython3",
   "version": "3.13.0"
  }
 },
 "nbformat": 4,
 "nbformat_minor": 2
}
