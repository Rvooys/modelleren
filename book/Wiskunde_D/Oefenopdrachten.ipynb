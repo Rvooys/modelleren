{
 "cells": [
  {
   "cell_type": "markdown",
   "metadata": {},
   "source": [
    "# LES 4: Losse opdrachten\n",
    "\n",
    "In dit hoofdstuk zie je wat losse opdrachten, die je met de afgelopen lessen zou moeten kunnen maken.\n",
    "\n",
    "Dit zijn opdrachten die je uiteraard ook in chatgpt kan invullen, maar daar leer je natuurlijk niets van. Je mag echter altijd inspiratie opdoen.\n",
    "\n",
    "De eerste 10 opdrachten zijn gebaseerd op de eerste 10 opdrachten van projecteuler.net, slecht vertaald naar het Nederlands.\n",
    "\n"
   ]
  },
  {
   "cell_type": "markdown",
   "metadata": {},
   "source": [
    "# Opdracht 1 Som van Veelvouden van 5 en 7\n",
    "\n",
    "Bekijk de getallen 5, 7, 10, 14, 15, 20, 21, 25, 28, 30, 35, ... \n",
    "Dit zijn de eerste getallen die door 5 OF door 7 deelbaar zijn, of allebei.\n",
    "\n",
    "De som van de eerste twee getallen is 12, de som van de eerste drie getallen is 22, etcetera. \n",
    "\n",
    "Vind met python de som van alle veelvouden van 5 of 7 onder de 2000.\n",
    "\n"
   ]
  },
  {
   "cell_type": "code",
   "execution_count": null,
   "metadata": {},
   "outputs": [],
   "source": [
    "#typ hier je uitwerking van opdracht 1"
   ]
  },
  {
   "cell_type": "markdown",
   "metadata": {},
   "source": [
    "# Opdracht 2 De som van even Fibonacci getallen.\n",
    "\n",
    "De fibonacci rij kan als volgt worden gedefinieerd:  \n",
    "u0 = 1  \n",
    "u1 = 1  \n",
    "u(n) = u(n-1)+ u(n-2)  \n",
    "\n",
    "In woorden: start met de getallen 1, 1 dan is de volgende term de som van de twee voorgaande termen.\n",
    "Je krijgt dan 1, 1, 2, 3, 5, 8, 13, 21, 34,...\n",
    "\n",
    "Genereer de lijst van Fibonacci getallen tot 4.000.000, en vind de som van de oneven Fibonaccigetallen (1+1+3+5+13+...)\n",
    "\n"
   ]
  },
  {
   "cell_type": "code",
   "execution_count": null,
   "metadata": {},
   "outputs": [],
   "source": [
    "#typ hier je uitwerking van opdracht 2"
   ]
  },
  {
   "cell_type": "markdown",
   "metadata": {},
   "source": [
    "# Opdracht 3 Grootste Palindroom Product\n",
    "\n",
    "Een palindroom getal is hetzelfde als je het van links naar rechts leest als andersom. Bijvoorbeeld 12321.\n",
    "\n",
    "9009 = 91 x 99 is het grootste palindroomgetal dat je kan maken met twee tweecijferige getallen (91 en 99).\n",
    "\n",
    "Vind de grootste palindroomgetal dat je kan maken met twee driecijferige getallen\n",
    "\n"
   ]
  },
  {
   "cell_type": "code",
   "execution_count": null,
   "metadata": {},
   "outputs": [],
   "source": [
    "#typ hier je uitwerking van opdracht 3"
   ]
  },
  {
   "cell_type": "markdown",
   "metadata": {},
   "source": [
    "# Opdracht 4 Een specifieke pythagorastriplet\n",
    "\n",
    "(Zie ook les 2)  Een pythagoras triplet zijn drie gehele positieve getallen (a, b, c) met a < b < c waarvoor geldt:  a^2 + b^2 = c^2.  \n",
    "\n",
    "Er is precies een pythagoras triplet waarvoor geldt a+b+c = 1000.\n",
    "\n",
    "Genereer het product abc."
   ]
  },
  {
   "cell_type": "code",
   "execution_count": null,
   "metadata": {},
   "outputs": [],
   "source": [
    "#typ hier je uitwerking van opdracht 4"
   ]
  },
  {
   "cell_type": "markdown",
   "metadata": {},
   "source": [
    "\n",
    "# Opdracht 6 Een plot opdracht met priemgetallen\n",
    "\n",
    "Genereer eerst de eerste 10000 priemgetallen, zie een andere les hoe je dat ook alweer doet. \n",
    "\n",
    "Kijk de eerste 3 minuten van het filmpje: https://www.youtube.com/watch?v=EK32jo7i5LQ&ab_channel=3Blue1Brown\n",
    "\n",
    "Daar leer je heel kort iets over poolcoordinaten.  Dat is eigenlijk best eenvoudig:\n",
    "\n",
    "(x,y) is normaal x stapjes naar rechts en y stapjes omhoog in het (cartesisch) vlak.  \n",
    "Je kan een punt in het vlak ook aanwijzen met de afstand tot de oorsprong r en de hoek theta die je maakt met de positieve horizontale as. Dit noem je poolcoordinaten.\n",
    "\n",
    "De wiskunde krijg je pas later bij wiskunde B, maar de omzetting van cartetisch naar poolcoordinaten is goed te doen:\n",
    "\n",
    "r = x^2 + y^2  (gewoon pythagoras)\n",
    "theta = arctan(y/x)   (gewoon definitie tangens)  \n",
    "\n",
    "Je opdracht is eigenlijk het plaatje wat je in het filmpje ziet nabouwen.\n",
    "\n"
   ]
  },
  {
   "cell_type": "code",
   "execution_count": 1,
   "metadata": {},
   "outputs": [
    {
     "ename": "ModuleNotFoundError",
     "evalue": "No module named 'numpy'",
     "output_type": "error",
     "traceback": [
      "\u001b[1;31m---------------------------------------------------------------------------\u001b[0m",
      "\u001b[1;31mModuleNotFoundError\u001b[0m                       Traceback (most recent call last)",
      "Cell \u001b[1;32mIn[1], line 1\u001b[0m\n\u001b[1;32m----> 1\u001b[0m \u001b[38;5;28;01mimport\u001b[39;00m \u001b[38;5;21;01mnumpy\u001b[39;00m \u001b[38;5;28;01mas\u001b[39;00m \u001b[38;5;21;01mnp\u001b[39;00m\n\u001b[0;32m      2\u001b[0m \u001b[38;5;28;01mimport\u001b[39;00m \u001b[38;5;21;01mmatplotlib\u001b[39;00m\u001b[38;5;21;01m.\u001b[39;00m\u001b[38;5;21;01mpyplot\u001b[39;00m \u001b[38;5;28;01mas\u001b[39;00m \u001b[38;5;21;01mplt\u001b[39;00m \n\u001b[0;32m      3\u001b[0m get_ipython()\u001b[38;5;241m.\u001b[39mrun_line_magic(\u001b[38;5;124m'\u001b[39m\u001b[38;5;124mmatplotlib\u001b[39m\u001b[38;5;124m'\u001b[39m, \u001b[38;5;124m'\u001b[39m\u001b[38;5;124minline\u001b[39m\u001b[38;5;124m'\u001b[39m)\n",
      "\u001b[1;31mModuleNotFoundError\u001b[0m: No module named 'numpy'"
     ]
    }
   ],
   "source": [
    "import numpy as np\n",
    "import matplotlib.pyplot as plt \n",
    "%matplotlib inline          \n",
    "\n",
    "def carttopolar(x,y): #zet cartetische (x,y) om naar poolcoordinaat (r, theta)\n",
    "    r = x**2+y**2\n",
    "    theta = np.arctan2(x,y)   #volgens mij is dit arctan(y/x)\n",
    "    return r, theta\n",
    "\n",
    "# nog een functie om n priemen te generen\n",
    "# dan een manier verzinnen om (p,p) in poolcoordinaten op te slaan in een lijst\n",
    "# en dan plotten"
   ]
  },
  {
   "cell_type": "code",
   "execution_count": null,
   "metadata": {},
   "outputs": [],
   "source": []
  }
 ],
 "metadata": {
  "kernelspec": {
   "display_name": "Python 3",
   "language": "python",
   "name": "python3"
  },
  "language_info": {
   "codemirror_mode": {
    "name": "ipython",
    "version": 3
   },
   "file_extension": ".py",
   "mimetype": "text/x-python",
   "name": "python",
   "nbconvert_exporter": "python",
   "pygments_lexer": "ipython3",
   "version": "3.13.0"
  }
 },
 "nbformat": 4,
 "nbformat_minor": 2
}
