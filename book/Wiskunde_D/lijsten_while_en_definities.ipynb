{
 "cells": [
  {
   "cell_type": "markdown",
   "metadata": {},
   "source": [
    "## Werken met lijsten, de while loop en functiedefinities\n",
    "\n",
    "In dit hoofdstuk leer je wat lijsten zijn, en hoe je zogeheten loops gebruikt. Je hebt al kennisgemaakt met de for-loop, in dit hoofdstuk komt ook de while loop voor.\n",
    "\n",
    "\n",
    "#lijsten\n",
    "Het begrip lijsten ben je misschien al bij natuurkunde tegengekomen. Het is niet anders dan een reeks getallen (of andere type variabelen) die je opslaat. Je kan het voorstellen als een tabel. Een ander woord in het engels is array.\n",
    "\n",
    "De lijst getallen 1 t/m 10 wordt weergegeven als `[1, 2, 3, 4, 5, 6, 7, 8, 9 10]`. Deze lijst kan worden opgeslagen zoals je dat ook met strings of getallen doet, en met commando `print()` kan je de inhoud op het scherm toveren.\n",
    " \n",
    "Hieronder een voorbeeld\n"
   ]
  },
  {
   "cell_type": "code",
   "execution_count": 5,
   "metadata": {},
   "outputs": [
    {
     "name": "stdout",
     "output_type": "stream",
     "text": [
      "[1, 2, 3, 4, 5, 6, 7, 8, 9, 10]\n"
     ]
    }
   ],
   "source": [
    "lijstje = [1, 2, 3, 4, 5, 6, 7, 8, 9, 10]\n",
    "print(lijstje)"
   ]
  },
  {
   "cell_type": "markdown",
   "metadata": {},
   "source": [
    "Merk op dat je de inhoud van lijsten dus scheid met een komma. Dit is dus ook de reden dat als je een getal met een komma noteert een foutmelding krijgt. Je ziet in de foutmelding typeerror staan, en het woord tuple (dat zijn objecten geschreiden door een komma)"
   ]
  },
  {
   "cell_type": "code",
   "execution_count": 2,
   "metadata": {},
   "outputs": [
    {
     "ename": "TypeError",
     "evalue": "can't multiply sequence by non-int of type 'tuple'",
     "output_type": "error",
     "traceback": [
      "\u001b[1;31m---------------------------------------------------------------------------\u001b[0m",
      "\u001b[1;31mTypeError\u001b[0m                                 Traceback (most recent call last)",
      "Cell \u001b[1;32mIn[2], line 3\u001b[0m\n\u001b[0;32m      1\u001b[0m a \u001b[38;5;241m=\u001b[39m \u001b[38;5;241m1\u001b[39m,\u001b[38;5;241m4\u001b[39m\n\u001b[0;32m      2\u001b[0m b\u001b[38;5;241m=\u001b[39m \u001b[38;5;241m3\u001b[39m,\u001b[38;5;241m6\u001b[39m\n\u001b[1;32m----> 3\u001b[0m \u001b[38;5;28mprint\u001b[39m(\u001b[43ma\u001b[49m\u001b[38;5;241;43m*\u001b[39;49m\u001b[43mb\u001b[49m)\n",
      "\u001b[1;31mTypeError\u001b[0m: can't multiply sequence by non-int of type 'tuple'"
     ]
    }
   ],
   "source": [
    "a = 1,4\n",
    "b= 3,6\n",
    "print(a*b)"
   ]
  },
  {
   "cell_type": "markdown",
   "metadata": {},
   "source": [
    "Een andere manier om deze lijst te maken is met `list(range(1,11))`, zeker als je grotere lijsten wil is dit handiger.\n",
    "range(1,11) heeft als beginwaarde 1 en eindwaarde 10, eentje minder dus. het is dus van begin TOT eind, niet TOT EN MET"
   ]
  },
  {
   "cell_type": "code",
   "execution_count": 39,
   "metadata": {},
   "outputs": [
    {
     "name": "stdout",
     "output_type": "stream",
     "text": [
      "[1, 2, 3, 4, 5, 6, 7, 8, 9, 10]\n"
     ]
    }
   ],
   "source": [
    "lijstje = list(range(1,11))\n",
    "print(lijstje)"
   ]
  },
  {
   "cell_type": "markdown",
   "metadata": {},
   "source": [
    "# Hoe kan je lijsten 'lezen' en bewerken.\n",
    "\n",
    "Stel ik wil het getal 3 oproepen in `lijstje = [1, 2, 3, 4, 5, 6, 7, 8, 9, 10]`. \n",
    "Dat is hier het derde getal, echter beginnen we met python met 0 te tellen. De plek in een lijst wordt aangeduid met 'index'. \n",
    "De 'index' van het getal 3 in lijstje is dus 2. Dat roep je aan met rechte haken [ ].\n",
    "Zie hieronder het voorbeeld.\n",
    "\n"
   ]
  },
  {
   "cell_type": "code",
   "execution_count": 9,
   "metadata": {},
   "outputs": [
    {
     "name": "stdout",
     "output_type": "stream",
     "text": [
      "3\n"
     ]
    }
   ],
   "source": [
    "lijstje = [1, 2, 3, 4, 5, 6, 7, 8, 9, 10]\n",
    "print(lijstje[2])  # met [2] wordt van de inhoud van lijstje de 3e item opgevraagd, dat printen we dan\n",
    " "
   ]
  },
  {
   "cell_type": "markdown",
   "metadata": {},
   "source": [
    "Wil je de laatste item hebben van je lijst, maar geen zin om te tellen? Dan kan je ook 'achteruit' tellen.\n",
    "Zo roep je met `print(lijstje[-1])` het getal 10 op. Bedenk wat de output zou zijn van `print(lijstje[-4])` en controleer dat hieronder."
   ]
  },
  {
   "cell_type": "code",
   "execution_count": 12,
   "metadata": {},
   "outputs": [
    {
     "name": "stdout",
     "output_type": "stream",
     "text": [
      "10\n"
     ]
    }
   ],
   "source": [
    "lijstje = [1, 2, 3, 4, 5, 6, 7, 8, 9, 10]\n",
    "print(lijstje[-1])"
   ]
  },
  {
   "cell_type": "markdown",
   "metadata": {},
   "source": [
    "Let op dat je niet een index opvraagt die buiten de zogeheten 'range' van je lijst zit. \n",
    "Probeer maar, je krijgt dan Indexerror: list index out of range"
   ]
  },
  {
   "cell_type": "code",
   "execution_count": 16,
   "metadata": {},
   "outputs": [
    {
     "ename": "IndexError",
     "evalue": "list index out of range",
     "output_type": "error",
     "traceback": [
      "\u001b[1;31m---------------------------------------------------------------------------\u001b[0m",
      "\u001b[1;31mIndexError\u001b[0m                                Traceback (most recent call last)",
      "Cell \u001b[1;32mIn[16], line 2\u001b[0m\n\u001b[0;32m      1\u001b[0m lijstje \u001b[38;5;241m=\u001b[39m [\u001b[38;5;241m1\u001b[39m, \u001b[38;5;241m2\u001b[39m, \u001b[38;5;241m3\u001b[39m, \u001b[38;5;241m4\u001b[39m, \u001b[38;5;241m5\u001b[39m, \u001b[38;5;241m6\u001b[39m, \u001b[38;5;241m7\u001b[39m, \u001b[38;5;241m8\u001b[39m, \u001b[38;5;241m9\u001b[39m, \u001b[38;5;241m10\u001b[39m]\n\u001b[1;32m----> 2\u001b[0m \u001b[38;5;28mprint\u001b[39m(\u001b[43mlijstje\u001b[49m\u001b[43m[\u001b[49m\u001b[38;5;241;43m15\u001b[39;49m\u001b[43m]\u001b[49m)\n",
      "\u001b[1;31mIndexError\u001b[0m: list index out of range"
     ]
    }
   ],
   "source": [
    "lijstje = [1, 2, 3, 4, 5, 6, 7, 8, 9, 10]\n",
    "print(lijstje[15])"
   ]
  },
  {
   "cell_type": "markdown",
   "metadata": {},
   "source": [
    "Je kan als volgt dingen TOEVOEGEN aan een lijst: `lijstje.append(11)`.\n",
    "Het .append() gedeelte is een zogeheten methode uit een zogeheten module, dat bij lijsten gebruikt wordt. Je zal deze notatie later vaker tegenkomen en komen we later nog eens op terug.\n",
    "De logica achter het woord 'append' is gewoon 'appendix', toevoeging."
   ]
  },
  {
   "cell_type": "code",
   "execution_count": 14,
   "metadata": {},
   "outputs": [
    {
     "name": "stdout",
     "output_type": "stream",
     "text": [
      "[1, 2, 3, 4, 5, 6, 7, 8, 9, 10, 11]\n"
     ]
    }
   ],
   "source": [
    "lijstje = [1, 2, 3, 4, 5, 6, 7, 8, 9, 10]\n",
    "lijstje.append(11)\n",
    "print(lijstje)"
   ]
  },
  {
   "cell_type": "markdown",
   "metadata": {},
   "source": [
    "Wil je een getal IN een lijstje toevoegen, gebruik je `lijstje.insert()`.\n",
    "Wil je bijvoorbeeld de waarde 5.5 toevoegen tussen de 5 en een 6, moet je `lijstje.insert(5, 5.5)` aanroepen.\n",
    "De logica is dat je zoekt naar index van het getal 6, dat is 5 (je begint bij 0 te tellen...) en op die plek de 5.5 zet, immers na de waarde 5 met index 4, en alle andere waarden dan dus een index opschuift.\n",
    "\n",
    "Het aantal items in een lijst (de lengte) kan je aanroepen met len().  Check hieronder dat er dus nu 11 items zijn in de nieuwe lijst nadat 5.5 is toegevoegd."
   ]
  },
  {
   "cell_type": "code",
   "execution_count": 22,
   "metadata": {},
   "outputs": [
    {
     "name": "stdout",
     "output_type": "stream",
     "text": [
      "[1, 2, 3, 4, 5, 5.5, 6, 7, 8, 9, 10]\n",
      "11\n"
     ]
    }
   ],
   "source": [
    "lijstje = [1, 2, 3, 4, 5, 6, 7, 8, 9, 10]\n",
    "lijstje.insert(5, 5.5)\n",
    "print(lijstje)\n",
    "print(len(lijstje))"
   ]
  },
  {
   "cell_type": "code",
   "execution_count": null,
   "metadata": {},
   "outputs": [],
   "source": [
    "Wil je een item vervangen, bijvoorbeeld het getal 6 door 16, kan dat met `lijstje[5]=16`"
   ]
  },
  {
   "cell_type": "code",
   "execution_count": 18,
   "metadata": {},
   "outputs": [
    {
     "name": "stdout",
     "output_type": "stream",
     "text": [
      "[1, 2, 3, 4, 5, 16, 7, 8, 9, 10]\n"
     ]
    }
   ],
   "source": [
    "lijstje = [1, 2, 3, 4, 5, 6, 7, 8, 9, 10]\n",
    "lijstje[5]=16\n",
    "print(lijstje)"
   ]
  },
  {
   "cell_type": "markdown",
   "metadata": {},
   "source": [
    "WEET je echter niet welke index een bepaalde warde heeft (want je lijst is te groot om te tellen). Kan je met `lijstje.index()` de index van een waarde vinden, dat opslaan als variabele, en die variabele weer oproepen in lijstje[]. \n",
    "Om deze paragraaf over lijsten een beetje af te ronden, kan je natuurlijk ook andere soorten variabelen opslaan in een lijst. Hieronder vervangen we het getal 6 door de string 'paard'."
   ]
  },
  {
   "cell_type": "code",
   "execution_count": 21,
   "metadata": {},
   "outputs": [
    {
     "name": "stdout",
     "output_type": "stream",
     "text": [
      "[1, 2, 3, 4, 5, 'paard', 7, 8, 9, 10]\n"
     ]
    }
   ],
   "source": [
    "lijstje = [1, 2, 3, 4, 5, 6, 7, 8, 9, 10]\n",
    "index_van_6 = lijstje.index(6)\n",
    "lijstje[index_van_6]='paard'\n",
    "print(lijstje)"
   ]
  },
  {
   "cell_type": "markdown",
   "metadata": {},
   "source": [
    "OPDRACHT\n",
    "Genereer een lijst van even getallen onder de 100. Hieronder een begin. Herinner dat een  getal even is als je het kan delen door 2, in python doe je dat met %."
   ]
  },
  {
   "cell_type": "code",
   "execution_count": 3,
   "metadata": {},
   "outputs": [
    {
     "name": "stdout",
     "output_type": "stream",
     "text": [
      "[2, 4, 6, 8, 10, 12, 14, 16, 18, 20, 22, 24, 26, 28, 30, 32, 34, 36, 38, 40, 42, 44, 46, 48, 50, 52, 54, 56, 58, 60, 62, 64, 66, 68, 70, 72, 74, 76, 78, 80, 82, 84, 86, 88, 90, 92, 94, 96, 98, 100]\n"
     ]
    }
   ],
   "source": [
    "lijst = list(range(1,101))    #dit genereert een lijst van 1 tot en met 100\n",
    "evenlijst = []                #dit wordt het lijstje van even getallen\n",
    "for getal in lijst:\n",
    "    if(....):   #noteer hier wat er getest moet worden\n",
    "        ....    #noteer hier hoe je dan de evenlijst vult\n",
    "\n",
    "print(evenlijst)"
   ]
  },
  {
   "cell_type": "markdown",
   "metadata": {},
   "source": [
    "# Lijsten toegepast, en introductie while-loop.\n",
    "Nu gaan we eens wiskundeproblemen oplossen met gebruik van lijsten.\n",
    "In deze oefening gaan we een lijst maken van de eerste 100 ONEVEN getallen. Dat gaan we natuurlijk niet met de hand doen. Een manier (er zijn meerdere manieren natuurlijk) is als volgt.\n",
    "We maken een lijst, genaamd onevengetallenlijst, en we beginnen met een zogeten lege lijst. `onevengetallenlijst = []`.\n",
    "Vervolgens gaan we net zo lang een getal toevoegen met .append() tot de lengte van de lijs len(onevengetallenlijst) gelijk is aan 100.\n",
    "\n",
    "Deze laatste zin kan je afdoen in python met de zogeheten while loop. Zolang aan een bepaalde conditie nog is voldaan, doen we het volgende stukje code steeds opnieuw. \n",
    "\n",
    "Dan willen we een lijst getallen afgaan en checken of deze oneven is.\n",
    "We moeten dan met een eerste getal beginnen, en we weten al wat het eerste oneven getal is, namelijk 1. \n",
    "start dan dus met een variabele en sla daar de waarde 1 op, `getal = 1`.\n",
    "Dan starten we de while loop: \n",
    "Zolang het aantal oneven getallen kleiner is dan 100, doe het volgende: Als het getal oneven is, slaan we dit getal op in de lijst. Daarna hoegen we de waarde met 1 op. \n",
    "\n",
    "Het checken van of een getal oneven is, vraagt een extra denkstap. Een getal is oneven als deze niet deelbaar is door 2. Dit is hetzelfde zeggen als als je deelt door 2, je een rest 1 krijgt. Dit is in een ander hoofdstuk al aan de orde geweest: `getal%2`. Dit heet modulo rekenen, en de procent geeft de rest door deling met 2. ALs hier 1 uit komt, is het getal dus oneven geweest. \n",
    "Dat checken gebeurd in de regel met `if getal%2 == 1:`. Let op de twee =-tekens, dit is het commando om links en rechts van het = teken met elkaar te vergelijken: 5%2 is namelijk gelijk aan 1, en we checken dan of dit daadwerkelijk gelijk is aan 1. 6%2 is gelijk aan 0, dus het getal 6 willen we niet opslaan in het lijstje.\n",
    "\n",
    "In de laatste regel in de while loop staat `getal = getal+1`. We hebben namelijk een getal gecheckt of deze deelbaar is door 2 en rest 1 geeft, en willen deze nu ophogen. Let op de inspringing! Deze ophoging moet 'binnen' de while loop blijven, maar buiten de if-statement.\n",
    "\n",
    "Probeer dan nu het onderstaande stukje te begrijpen. Controleer of je inderdaad 1 tot 199 hebt en dat dit 100 oneven getallen zijn, het is een variatie van de vorige opgave"
   ]
  },
  {
   "cell_type": "code",
   "execution_count": 25,
   "metadata": {},
   "outputs": [
    {
     "name": "stdout",
     "output_type": "stream",
     "text": [
      "[1, 3, 5, 7, 9, 11, 13, 15, 17, 19, 21, 23, 25, 27, 29, 31, 33, 35, 37, 39, 41, 43, 45, 47, 49, 51, 53, 55, 57, 59, 61, 63, 65, 67, 69, 71, 73, 75, 77, 79, 81, 83, 85, 87, 89, 91, 93, 95, 97, 99, 101, 103, 105, 107, 109, 111, 113, 115, 117, 119, 121, 123, 125, 127, 129, 131, 133, 135, 137, 139, 141, 143, 145, 147, 149, 151, 153, 155, 157, 159, 161, 163, 165, 167, 169, 171, 173, 175, 177, 179, 181, 183, 185, 187, 189, 191, 193, 195, 197, 199]\n",
      "100\n"
     ]
    }
   ],
   "source": [
    "onevengetallenlijst = []\n",
    "getal = 1\n",
    "while len(onevengetallenlijst) < 100:\n",
    "    if getal%2 == 1:\n",
    "        onevengetallenlijst.append(getal)\n",
    "    getal = getal + 1\n",
    "\n",
    "print(onevengetallenlijst)\n",
    "print(len(onevengetallenlijst))\n"
   ]
  },
  {
   "cell_type": "code",
   "execution_count": null,
   "metadata": {},
   "outputs": [],
   "source": []
  },
  {
   "cell_type": "markdown",
   "metadata": {},
   "source": [
    "Een getal is dus deelbaar als er rest 0 uit komt. Getal%3==0 betekend dus dat een Getal deelbaar is door 3.\n",
    "We gaan in de volgende opdracht een lijst maken van getallen die ZOWEL deelbaar zijn door 3 als door 5. Om meerdere voorwaardes te checken kan je 'and' gebruiken. \n",
    "De tekst 'als het getal deelbaar is door drie EN door 5' wordt dat gedaan met `if getal%3==0 and getal%5==0:`\n",
    "\n"
   ]
  },
  {
   "cell_type": "markdown",
   "metadata": {},
   "source": [
    "OPDRACHT\n",
    "\n",
    "Maak een lijst van de eerste 20 positieve getallen die zowel deelbaar zijn door 3 als door 5.\n",
    "De eerste drie getallen zijn dus 15, 45 en 75. (0 tellen we NIET mee, dat is suf want is altijd ergens door deelbaar)\n",
    "Print tenslotte de 10e getal in deze lijst, en tel daar dan de laatste getal in deze lijst bij op.\n",
    "Als je de opdracht goed hebt gedaan, is het antwoord 450"
   ]
  },
  {
   "cell_type": "code",
   "execution_count": 28,
   "metadata": {},
   "outputs": [
    {
     "name": "stdout",
     "output_type": "stream",
     "text": [
      "[15, 30, 45, 60, 75, 90, 105, 120, 135, 150, 165, 180, 195, 210, 225, 240, 255, 270, 285, 300]\n",
      "450\n"
     ]
    }
   ],
   "source": [
    "#noteer je code voor je opdracht hier, een klein begin is gemaakt\n",
    "getal = 1\n",
    "lijstje = []\n",
    "while len(lijstje)<20:\n",
    "    ...\n"
   ]
  },
  {
   "cell_type": "markdown",
   "metadata": {},
   "source": [
    "# Meer over de while loop, verschil met for-loop en gevaren\n",
    "Je hebt een intro gekregen in het gebruik van de while loop. Eerder heb je de for loop gezien.\n",
    "Wanneer gebruik je welke? In het geval van lijsten:\n",
    "- de for loop gebruik je als je al een lijst hebt en je voor iedere item van die lijst iets wilt doen. Het aantal stappen is dan dus altijd eindig, namelijk de lengte van de lijst.\n",
    "- de while loop gebruik je als je NIET van te voren weet hoe lang je lijst zal gaan worden. Je wist bijvoorbeeld niet welke waarde de 20e item in de lijst van getallen die zowel deelbaar zijn door 3 als door 5 is.\n",
    "\n",
    "Een groot gevaar van de while loop is de zogeheten 'infinite loop' of 'deathloop', het is mogelijk dat de loop NOOIT stopt. Je zal dit merken als de code onredelijk lang duurt, en je moet maar hopen dat je je programma weet te stoppen zonder je computer uit en aan te moeten zetten.\n",
    "\n",
    "in onderstaande code gebeurd dit bijvoorbeeld, bedenk maar waarom dit mis gaat."
   ]
  },
  {
   "cell_type": "code",
   "execution_count": 29,
   "metadata": {},
   "outputs": [
    {
     "ename": "KeyboardInterrupt",
     "evalue": "",
     "output_type": "error",
     "traceback": [
      "\u001b[1;31m---------------------------------------------------------------------------\u001b[0m",
      "\u001b[1;31mKeyboardInterrupt\u001b[0m                         Traceback (most recent call last)",
      "Cell \u001b[1;32mIn[29], line 4\u001b[0m\n\u001b[0;32m      2\u001b[0m lijstje \u001b[38;5;241m=\u001b[39m []\n\u001b[0;32m      3\u001b[0m lijstje\u001b[38;5;241m.\u001b[39mappend(getal)\n\u001b[1;32m----> 4\u001b[0m \u001b[38;5;28;01mwhile\u001b[39;00m \u001b[38;5;28mlen\u001b[39m(lijstje)\u001b[38;5;241m>\u001b[39m\u001b[38;5;241m0\u001b[39m:\n\u001b[0;32m      5\u001b[0m     lijstje\u001b[38;5;241m.\u001b[39mappend(getal)\n\u001b[0;32m      6\u001b[0m     getal \u001b[38;5;241m=\u001b[39m getal\u001b[38;5;241m+\u001b[39m\u001b[38;5;241m1\u001b[39m\n",
      "\u001b[1;31mKeyboardInterrupt\u001b[0m: "
     ]
    }
   ],
   "source": [
    "getal = 1\n",
    "lijstje = []\n",
    "lijstje.append(getal)\n",
    "while len(lijstje)>0:\n",
    "    lijstje.append(getal)\n",
    "    getal = getal+1\n",
    "print(len(lijstje))\n",
    "\n"
   ]
  },
  {
   "cell_type": "markdown",
   "metadata": {},
   "source": [
    "Een while loop kan je ook gebruiken als je graag eerder de code wilt stoppen dan je met een for loop zou willen.\n",
    "Een flauwe contextvraag: je gooit een bal van een toren van 120 meter hoog naar beneden. Elke 1 s gaat de bal 1.21 meter naar beneden. We willen weten op welk tijdstip de grond is bereikt.\n",
    "\n",
    "Wiskundig kunnen we makkelijk berekenen welke tijdstip dit is: immers moet je enkel maar de formule 1.21t = 120 oplossen, dus t = 100/1.21\n",
    "Maar we doen even alsof dit heel moeilijk is. En ja, het getal 1.21 is expres zo gekozen, dat zie je later...\n",
    "\n",
    "Als je dit zou willen programmeren wil je na elke tijdstap de nieuwe hoogte bepalen, en dan checken of de hoogte nog boven nul is, anders is de grond bereikt. Je wilt ook de tijdstappen bijhouden. \n",
    "Een manier om dit te doen (nogmaals, er zijn altijd meerdere) is om twee lijsten bij te houden: de hoogte en tijd. \n",
    "Zolang de hoogte nog positief is, gaan we door met 1,21 m van de hoogte afhalen.\n",
    "\n",
    "\n",
    "\n",
    "\n",
    "\n"
   ]
  },
  {
   "cell_type": "code",
   "execution_count": 34,
   "metadata": {},
   "outputs": [
    {
     "name": "stdout",
     "output_type": "stream",
     "text": [
      "100\n",
      "-0.9999999999997513\n"
     ]
    }
   ],
   "source": [
    "hoogte=120\n",
    "tijd = 0\n",
    "hoogtelijst = [120]    # we slaan alvast de eerste hoogte op, 120 m\n",
    "tijdlijst = [0]        # we slaan ook alvast de eerste tijd op\n",
    "\n",
    "while hoogtelijst[-1]>=0:\n",
    "    hoogte = hoogte - 1.21\n",
    "    tijd = tijd +1\n",
    "    hoogtelijst.append(hoogte)\n",
    "    tijdlijst.append(tijd)\n",
    "\n",
    "print(tijdlijst[-1]) #hiermee printen we de laatste berekende tijd\n",
    "print(hoogtelijst[-1]) #hiermee printen we de laatste bereknde hoogte\n"
   ]
  },
  {
   "cell_type": "markdown",
   "metadata": {},
   "source": [
    "Een probleem dat we met de vorige code hebben is dat de laatste berekende waarde van de hoogte negatief is. Ergens tussen de laatste twee waarden zit dus de tijdstip waar de hoogte gelijk is aan 0.\n",
    "Bij het vak natuurkunde ga je hier verder mee aan de slag, door een kleinere tijdstap te gebruiken (dt = 0.0001 bijvoorbeeld). Dat slaan we voor nu even over, dat leer je bij natuurkunde wel\n",
    "\n",
    "\n"
   ]
  },
  {
   "cell_type": "markdown",
   "metadata": {},
   "source": [
    "# Meer wiskunde problemen oplossen met lijsten en modulo rekenen, en introductie FUNCTIES definieren.\n",
    "\n",
    "In dit hoofdstuk heb je kennis gemaakt met %-teken: `15%4` geeft de rest bij 15 gedeeld door 4.  Bedenk zelf dat de uitkomst dan 3 is.\n",
    "We gebruiken modulo rekenen vooral bij vraagstukken waar je deelbaarheid moet testen.\n",
    "\n",
    "In deze paragraaf gaan we een priemgetallenlijst generen en daar ga je in opdrachten weer mee verder werken.\n",
    "\n",
    "*Een priemgetal is een geheel getal groter dan 1, dat alleen door zichzelf deelbaar is.*\n",
    "De eerste paar priemgetallen zijn dus 2, 3, 5, 7, 11 etc. 9 is dus geen priemgetal, want is deelbaar door 3.\n",
    "\n",
    "We gaan een programma schrijven dat van een gegeven waarde, moet dat Getal,  gaat controleren of deze priem is. Dit programma willen we later opnieuw aanroepen, dus we gaan een zogeheten functie definieren. dat gaat met `def is_prime(getal)`. \n",
    "\n",
    "Een manier om dat te doen is het Getal delen door alle getallen kleiner dat deze getal, noemen we nu Delers.\n",
    "Dit kan effecienter: we hoeven alleen de Delers te controleren kleiner dan de wortel van Getal. (als je wilt controleren of 100 een priem is, hoef je geen grotere getallen dan wortel(100) = 10 te checken)  \n",
    "Als er een deler is waarvoor geldt Getal%deler == 0, dan betekend dat het Getal goed gedeeld kan worden door Deler. Dus is Getal geen priem.\n",
    "\n",
    "We willen dus onze met onze functie is_priem twee waarden terugkrijgen: WAAR (True) als het getal priem is en ONWAAR( False) als het geen priem is.\n",
    "Zie programma hieronder. \n",
    "je ziet twee keer `return` staan. Zodra er een deler is, wordt er return False gedaan, de for loop wordt dan ook gelijk gestopt.\n",
    "als er nooit een False is geweest, heeft het getal blijkbaar geen delers, dus sturen we True terug.\n",
    "\n",
    "Nu we een functie hebben gemaakt dat controleert of een gegeven getal priem is, kunnen we een lijst van priemgetallen maken. De functie hieronder geeft alle priemgetallen kleiner dan 100.\n",
    "Probeer te begrijpen wat er gebeurd.\n"
   ]
  },
  {
   "cell_type": "code",
   "execution_count": 48,
   "metadata": {},
   "outputs": [
    {
     "name": "stdout",
     "output_type": "stream",
     "text": [
      "[2, 3, 5, 7, 11, 13, 17, 19, 23, 29, 31, 37, 41, 43, 47, 53, 59, 61, 67, 71, 73, 79, 83, 89, 97]\n"
     ]
    }
   ],
   "source": [
    "def is_priem(getal):\n",
    "    delers = list(range(2,int(getal**0.5+1)))  #we hoeven niet verder te controleren tot de wortel van getal, echter moet in list een geheel getal staan, dus maken met int er een integer van.\n",
    "    for deler in delers:\n",
    "        if getal%deler == 0:\n",
    "            return False #het getal is deelbaar door deler, dus is het getal geen priem\n",
    "    return True #omdat er nooit een False is geweest, moet het getal dus wel priem zijn\n",
    "\n",
    "is_prime(100)\n",
    "\n",
    "priemlijst=[]\n",
    "for getal in range(2,100):\n",
    "    if is_priem(getal):\n",
    "        priemlijst.append(getal)\n",
    "\n",
    "print(priemlijst)\n",
    "\n",
    "\n",
    "\n"
   ]
  },
  {
   "cell_type": "markdown",
   "metadata": {},
   "source": [
    "# EINDOPDRACHTEN\n",
    "\n",
    "Opdracht 1:  \n",
    "Maak een lijst van de eerste 100 priemtweelingen. Een priemtweeling is een paar priemgetallen die maar 2 verschillen, voorbeeld (3,5) en (5,7), ...   "
   ]
  },
  {
   "cell_type": "code",
   "execution_count": null,
   "metadata": {},
   "outputs": [],
   "source": [
    "#noteer hier de code, neem def is_prime over van de vorige paragraaf"
   ]
  },
  {
   "cell_type": "markdown",
   "metadata": {},
   "source": [
    "Opdracht 2:  \n",
    "Geef de langste collatzrij onder 100.\n",
    "Een Collatzrij is een reeks getallen dat aan de volgende voorwaarden voldoet:  \n",
    "als het getal even is, halveer het  \n",
    "als het getal oneven is, vermenigvuldig met 3 en tel er 1 op.\n",
    "Voorbeeld van zo'n rij: [10, 5, 16, 8, 4, 2, 1]\n",
    "Het is een open probleem of een collatzrij altijd eindigt. Het einde van de collatzrij is altijd 1: 1x3+1 = 4, dan kom weer 2 en 1 uit.\n",
    "De lengte van collatzrijen verschillen, en er is eentje die heel lang is. Wat is de lengte van die rij, en print die rij ook uit."
   ]
  },
  {
   "cell_type": "code",
   "execution_count": null,
   "metadata": {},
   "outputs": [],
   "source": []
  },
  {
   "cell_type": "markdown",
   "metadata": {},
   "source": [
    "Opdracht 3:  \n",
    "Schrijf een functie om te checken of drie getallen een zogeheten Pyathagorastriple is. \n",
    "Een Pythagorastriple (a,b,c) heeft de eigenschap dat a^2 + b^2 = c^2 voor a, b, c gehele positieve getallen.\n",
    "\n",
    "Gebruik deze functie vervolgens om alle pythagorastriplets te vinden met a, b, c < 100. Sla dit op in een lijst.\n",
    "TIP: gebruik 3 for loops, en het inzicht dat a < b < c."
   ]
  },
  {
   "cell_type": "code",
   "execution_count": null,
   "metadata": {},
   "outputs": [],
   "source": [
    "def pythtriple(a,b,c):\n",
    "    ....\n",
    "    \n",
    "pythtriplelijst = []\n",
    "...\n",
    "...\n",
    "\n",
    "\n",
    "print(pythtriplelijst)"
   ]
  },
  {
   "cell_type": "code",
   "execution_count": null,
   "metadata": {},
   "outputs": [],
   "source": []
  }
 ],
 "metadata": {
  "kernelspec": {
   "display_name": "Python 3",
   "language": "python",
   "name": "python3"
  },
  "language_info": {
   "codemirror_mode": {
    "name": "ipython",
    "version": 3
   },
   "file_extension": ".py",
   "mimetype": "text/x-python",
   "name": "python",
   "nbconvert_exporter": "python",
   "pygments_lexer": "ipython3",
   "version": "3.13.0"
  }
 },
 "nbformat": 4,
 "nbformat_minor": 2
}
