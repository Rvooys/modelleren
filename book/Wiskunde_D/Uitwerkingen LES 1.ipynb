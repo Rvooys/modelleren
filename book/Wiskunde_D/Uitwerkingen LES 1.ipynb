{
 "cells": [
  {
   "cell_type": "markdown",
   "metadata": {},
   "source": [
    "# Uitwerkingen LES 1\n",
    "\n",
    "Opdracht:\n",
    "Maak een programma zoals hierboven, dat telt hoevaak elke klinker (A I O U E) voorkomt in de zin: \"Wiskunde D is best een leuk vak! Met programeren als keuzeonderwerp.\"\n",
    "\n",
    "EXTRA\n",
    "Verzin ook manier om het totaal aantal medeklinkers te tellen in die zin. (hint: len(zin) telt het aantal karakters in de zin, let op: ook de spaties en . enz!)"
   ]
  },
  {
   "cell_type": "code",
   "execution_count": 2,
   "metadata": {},
   "outputs": [
    {
     "name": "stdout",
     "output_type": "stream",
     "text": [
      "Aantal keer letter A:  3\n",
      "Aantal keer letter I:  2\n",
      "Aantal keer letter U:  3\n",
      "Aantal keer letter O:  2\n",
      "Aantal keer letter E:  12\n"
     ]
    }
   ],
   "source": [
    "\n",
    "\n",
    "zin = \"Wiskunde D is best een leuk vak! Met programeren als keuzeonderwerp\"\n",
    "tellerA = 0\n",
    "tellerI = 0\n",
    "tellerO = 0\n",
    "tellerU = 0\n",
    "tellerE = 0\n",
    "\n",
    "for letter in zin:\n",
    "  if letter == \"A\" or letter == \"a\":  #let op, hoofdletter en kleine letters\n",
    "    tellerA = tellerA + 1\n",
    "  elif letter == \"I\" or letter == \"i\":\n",
    "    tellerI = tellerI + 1 \n",
    "  elif letter == \"O\" or letter == \"o\":\n",
    "    tellerO = tellerO + 1\n",
    "  elif letter == \"U\" or letter == \"u\":\n",
    "    tellerU = tellerU + 1\n",
    "  elif letter == \"E\" or letter == \"e\":\n",
    "    tellerE = tellerE + 1\n",
    "\n",
    "print(\"Aantal keer letter A: \", tellerA)\n",
    "print(\"Aantal keer letter I: \", tellerI)\n",
    "print(\"Aantal keer letter U: \", tellerU)\n",
    "print(\"Aantal keer letter O: \", tellerO)\n",
    "print(\"Aantal keer letter E: \", tellerE)\n"
   ]
  }
 ],
 "metadata": {
  "kernelspec": {
   "display_name": "Python 3",
   "language": "python",
   "name": "python3"
  },
  "language_info": {
   "codemirror_mode": {
    "name": "ipython",
    "version": 3
   },
   "file_extension": ".py",
   "mimetype": "text/x-python",
   "name": "python",
   "nbconvert_exporter": "python",
   "pygments_lexer": "ipython3",
   "version": "3.13.0"
  }
 },
 "nbformat": 4,
 "nbformat_minor": 2
}
