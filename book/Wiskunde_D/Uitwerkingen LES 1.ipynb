{
 "cells": [
  {
   "cell_type": "markdown",
   "metadata": {},
   "source": [
    "# Uitwerkingen LES 1\n",
    "\n",
    "Opdracht:\n",
    "Maak een programma zoals hierboven, dat telt hoevaak elke klinker (A I O U E) voorkomt in de zin: \"Wiskunde D is best een leuk vak! Met programeren als keuzeonderwerp.\"\n",
    "\n",
    "EXTRA\n",
    "Verzin ook manier om het totaal aantal medeklinkers te tellen in die zin. (hint: len(zin) telt het aantal karakters in de zin, let op: ook de spaties en . enz!)"
   ]
  },
  {
   "cell_type": "code",
   "execution_count": 2,
   "metadata": {},
   "outputs": [
    {
     "name": "stdout",
     "output_type": "stream",
     "text": [
      "Aantal keer letter A:  3\n",
      "Aantal keer letter I:  2\n",
      "Aantal keer letter U:  3\n",
      "Aantal keer letter O:  2\n",
      "Aantal keer letter E:  12\n"
     ]
    }
   ],
   "source": [
    "\n",
    "\n",
    "zin = \"Wiskunde D is best een leuk vak! Met programeren als keuzeonderwerp\"\n",
    "tellerA = 0\n",
    "tellerI = 0\n",
    "tellerO = 0\n",
    "tellerU = 0\n",
    "tellerE = 0\n",
    "\n",
    "for letter in zin:\n",
    "  if letter == \"A\" or letter == \"a\":  #let op, hoofdletter en kleine letters\n",
    "    tellerA = tellerA + 1\n",
    "  elif letter == \"I\" or letter == \"i\":\n",
    "    tellerI = tellerI + 1 \n",
    "  elif letter == \"O\" or letter == \"o\":\n",
    "    tellerO = tellerO + 1\n",
    "  elif letter == \"U\" or letter == \"u\":\n",
    "    tellerU = tellerU + 1\n",
    "  elif letter == \"E\" or letter == \"e\":\n",
    "    tellerE = tellerE + 1\n",
    "\n",
    "print(\"Aantal keer letter A: \", tellerA)\n",
    "print(\"Aantal keer letter I: \", tellerI)\n",
    "print(\"Aantal keer letter U: \", tellerU)\n",
    "print(\"Aantal keer letter O: \", tellerO)\n",
    "print(\"Aantal keer letter E: \", tellerE)\n"
   ]
  },
  {
   "cell_type": "markdown",
   "metadata": {},
   "source": [
    "OPDRACHT\n",
    "Maak het programma hieronder af, waarbij elke even index wordt geprint"
   ]
  },
  {
   "cell_type": "code",
   "execution_count": 1,
   "metadata": {},
   "outputs": [
    {
     "name": "stdout",
     "output_type": "stream",
     "text": [
      "De even letters zijn: Wsud  sLu\n"
     ]
    }
   ],
   "source": [
    "zin = \"Wiskunde D is Leuk\"\n",
    "\n",
    "evenletters = \"\"\n",
    "for i in range(0, len(zin), 2):  # Stapgrootte van 2, zodat we alleen even indexen pakken\n",
    "    evenletters += zin[i]\n",
    "\n",
    "print(\"De even letters zijn:\", evenletters)\n"
   ]
  },
  {
   "cell_type": "markdown",
   "metadata": {},
   "source": [
    "Eindopdracht 1\n",
    "Herschrijf bovenstaande code (kopier een plak hieronder en pas aan) zodat je een code krijgt dat 7 letters is opgeschoven.\n"
   ]
  },
  {
   "cell_type": "code",
   "execution_count": 2,
   "metadata": {},
   "outputs": [
    {
     "name": "stdout",
     "output_type": "stream",
     "text": [
      "pittw qs jmv kimaiz!\n"
     ]
    }
   ],
   "source": [
    "zin = \"hallo ik ben caesar!\"\n",
    "alfabet = 'abcdefghijklmnopqrstuvwxyz.,?! ' #het standaard alfabet, waaraan we de standaard leestekens . , ? en ! hebben toegevoegd\n",
    "sleutel = 'ijklmnopqrstuvwxyzabcdefgh.,?! ' #alleen het standaard alfabet, maar dan 7 versprongen. Merk op dat de leestekens op dezelfde plek zitten\n",
    "code =\"\"                                    # een lege string, genaamd code\n",
    "for i in range(0,len(zin)):                 # een for loop, we gaan namelijk alle letters in de zin af\n",
    "  alfabetnummer = alfabet.find(zin[i])      # met alfabet.find() zoek je de index op, met dezelfde letter als zin op de i-de plek, aangegeven met zin[i]. \n",
    "  sleutelletter = sleutel[alfabetnummer]    # we kijken vervolgens deze index in de string sleutel\n",
    "  code=code+sleutelletter                   # en plakken deze letter achter code\n",
    "\n",
    "print(code)                                 # uiteindelijk printen we de code\n"
   ]
  },
  {
   "cell_type": "markdown",
   "metadata": {},
   "source": [
    "OPDRACHT 2 (GEMIDDELD)\n",
    "Herschrijf de code zodat je juist de andere kant op gaat: gegeven een gecodeerde zin, wat was dan de originele zin"
   ]
  },
  {
   "cell_type": "code",
   "execution_count": null,
   "metadata": {},
   "outputs": [
    {
     "name": "stdout",
     "output_type": "stream",
     "text": [
      "hallo ik ben caesar!\n"
     ]
    }
   ],
   "source": [
    "code = \"pittw qs jmv kimaiz!\"               # we gebruiken als voorbeeld het resultaat van de vorige opdracht\n",
    "alfabet = 'abcdefghijklmnopqrstuvwxyz.,?! ' # dit wijzigt niet\n",
    "sleutel = 'ijklmnopqrstuvwxyzabcdefgh.,?! ' # dit wijzigt niet\n",
    "zin =\"\"                                    #  nu is het de zin die we moeten maken \n",
    "for i in range(0,len(code)):                 #  dit wijzigt niet, behalve dat we in code gaan loopen\n",
    "  sleutelnummer = sleutel.find(code[i])      # ten opzichte van vorige opdracht gaan we nu in de sleutel zoeken naar de letter, daar de bijhorende index pakken\n",
    "  alfabetletter = alfabet[sleutelnummer]    #  en deze index oproepen in het alfabet\n",
    "  zin=zin+alfabetletter                   #  en dat plakken aan de zin\n",
    "print(zin)                                 # uiteindelijk printen we de zin\n"
   ]
  },
  {
   "cell_type": "markdown",
   "metadata": {},
   "source": [
    "Opdracht 3\n",
    "\n",
    "Dit kan je niet op deze website doen. Chatgpt geeft best een goed resultaat, ikzelf heb onderstaande stuk bedacht. Als je dit gaat runnnen op de website gaat het stuk, maar copy plak in een andere omgeving zoals google colab werkt wel"
   ]
  },
  {
   "cell_type": "code",
   "execution_count": null,
   "metadata": {},
   "outputs": [
    {
     "name": "stdout",
     "output_type": "stream",
     "text": [
      "hallo\n",
      "cdefghijklmnopqrstuvwxyzab\n",
      "jcnnq\n"
     ]
    }
   ],
   "source": [
    "alfabet = 'abcdefghijklmnopqrstuvwxyz'\n",
    "sleutel = ''\n",
    "zin = input('geef de zin, zonder interpunctie en kleine letters:' )\n",
    "N=int(input('N= '))\n",
    "code = ''\n",
    "for i in range(0,len(alfabet)):\n",
    "  if(i+N<26):   # dit bepaald of we nog in de alfabetstring zitten of daarbuiten\n",
    "    sleutelletter=alfabet[i+N]       #lees in het alfabet de letter op index i+N\n",
    "    sleutel = sleutel+sleutelletter\n",
    "  else:\n",
    "    sleutelletter=alfabet[i+N-26]   #de -26 zorgt ervoor dat we weer vooraan beginnen bij het alfabet\n",
    "    sleutel = sleutel+sleutelletter\n",
    "\n",
    "for i in range(0,len(zin)):\n",
    "  alfabetnummer = alfabet.find(zin[i])\n",
    "  codeletter = sleutel[alfabetnummer]\n",
    "  code=code+codeletter\n",
    "\n",
    "print(\"je ingevoerde zin is: \", zin)\n",
    "print(\"de gebruikte sleutel is: \", sleutel)\n",
    "print(\"de geproduceerde code is: \", code)\n"
   ]
  }
 ],
 "metadata": {
  "kernelspec": {
   "display_name": "Python 3",
   "language": "python",
   "name": "python3"
  },
  "language_info": {
   "codemirror_mode": {
    "name": "ipython",
    "version": 3
   },
   "file_extension": ".py",
   "mimetype": "text/x-python",
   "name": "python",
   "nbconvert_exporter": "python",
   "pygments_lexer": "ipython3",
   "version": "3.13.0"
  }
 },
 "nbformat": 4,
 "nbformat_minor": 2
}
