{
  "cells": [
    {
      "cell_type": "markdown",
      "metadata": {
        "id": "_jPhHOdp0APc"
      },
      "source": [
        "## De val van Felix Baumgartner\n",
        "![Start van de val](https://images.nrc.nl/PbynCvQDTEME-rmwKWmSh4AXvmA=/1280x/filters:no_upscale()/s3/static.nrc.nl/bvhw/files/2017/12/data23020015-b4bbeb.jpg)\n",
        "\n",
        "<iframe width=\"800\" height=\"450\" src=\"https://www.youtube.com/embed/dYw4meRWGd4?si=8MK6aqm-AVfZXREV\" frameborder=\"0\" allowfullscreen></iframe>\n",
        "\n",
        "[Het filmpje van de val](https://youtu.be/dYw4meRWGd4)\n",
        "<br>\n",
        "In deze modelleer opdracht wordt een model voor de val gemaakt.\n",
        "<br>\n",
        "*Opdracht naar Tayo van Boeckel (2019)*\n",
        "<br>\n",
        "<br>\n",
        "Het notebook (deze omgeving) voor een model bestaat uit een aantal blokken. Loop de opdrachten (de blokken in het notebook) stap voor stap door. \n",
        "Hieronder volgt het eerste code blok. Om verder te gaan moet je telkens eerst op het *run* knopje drukken (dat verschijnt alleen als je *live code* hebt geactiveerd). Vervolgens kan je weer verder naar het blok eronder.\n",
        "In het code blok hieronder worden eerst enkele noodzakelijke bibliotheken geïmporteerd. Alles achter de # in het groen is commentaar en dus uitleg. Druk nu dus op *run*:\n"
      ]
    },
    {
      "cell_type": "code",
      "execution_count": null,
      "metadata": {
        "id": "sCJryvQ30sUm"
      },
      "outputs": [],
      "source": [
        "import numpy as np              #importeer bibliotheek numpy\n",
        "import matplotlib.pyplot as plt #importeer matplot"
      ]
    },
    {
      "cell_type": "markdown",
      "metadata": {
        "id": "WWVhXK6U-ytG"
      },
      "source": [
        "## Opdracht 0: Model van een vrije val\n",
        "We maken eerst een eenvoudig model van een vrije val, dus zonder luchtweerstand. Bij dit model zijn de volgende startwaarden nodig: (druk op play/run)"
      ]
    },
    {
      "cell_type": "code",
      "execution_count": null,
      "metadata": {
        "id": "bbixasMK_Dc4"
      },
      "outputs": [],
      "source": [
        "dt = 0.001\n",
        "\n",
        "#constanten:\n",
        "m  = 80 #kg\n",
        "g  = -9.81 #m/s^2\n",
        "\n",
        "#startwaarden:\n",
        "t = 0 #s\n",
        "a = g #m/s^2\n",
        "v = 0 #m/s\n",
        "h = 39045 #m\n",
        "eindtijd =100 #s"
      ]
    },
    {
      "cell_type": "markdown",
      "metadata": {
        "id": "HwVUPTbE_P_X"
      },
      "source": [
        "Technische info: <br>Het model wordt hieronder met een 'while' lus gemaakt. Zolang de tijd kleiner is dan de eindtijd blijft de lus doorgaan. We willen later een grafieken voor de snelheid en de plaats als functie van de tijd maken. Hiervoor moeten eerst (lege) lijsten (tabellen) gemaakt worden.\n",
        "<br>Begrijp je dit bovenstaande niet helemaal, geen ramp.\n",
        "<br><br>Het model:\n",
        "<br>Het model wordt in het code blok hieronder heel duidelijk aangegeven door #begin model en #eind model. Dit zijn de eigenlijke modelregels, dit zou je moeten begrijpen, en dit is de plek waar je later dingen kan aanpassen, en nergens anders. Let erop dat alles netjes onder elkaar blijft staan (of evenver inspringt). Bekijk het code blok en druk vervolgens op het run knopje.\n",
        "<br>\n",
        "\n"
      ]
    },
    {
      "cell_type": "code",
      "execution_count": null,
      "metadata": {
        "id": "nCb3Phyz_YAQ"
      },
      "outputs": [],
      "source": [
        "tijden = [t] # de lijst 'tijden' met een begintijd is gemaakt\n",
        "snelheden = [v] # en 'snelheden'\n",
        "hoogten = [h] # en 'plaatsen' ook\n",
        "versnellingen = [a] # en 'versnellingen' ook\n",
        "\n",
        "while t < eindtijd:\n",
        "    # begin model\n",
        "    t = t + dt\n",
        "    Fz = m * g\n",
        "    Fres = Fz\n",
        "    a= Fres / m\n",
        "    dv = a * dt\n",
        "    v = v + dv\n",
        "    dh = v * dt\n",
        "    h = h + dh\n",
        "    # eind model\n",
        "\n",
        "    # begin van het vullen van de lijsten\n",
        "    snelheden.append(v) # voegt een snelheid toe aan de lijst met snelheden.\n",
        "    hoogten.append(h) # voegt een plaats toe aan een lijst met plaatsen.\n",
        "    versnellingen.append(a) # voegt een versnelling toe aan een lijst met versnellingen.\n",
        "    tijden.append(t) # voegt de tijd toe aan een lijst met tijden.\n",
        "    # eind van het vullen van lijsten"
      ]
    },
    {
      "cell_type": "markdown",
      "metadata": {
        "id": "oIGIlNhE_sE4"
      },
      "source": [
        "Nu maken we grafieken (plotten). Druk op run om ze te laten verschijnen. Eerst het v-t diagram, vervolgens het h-t diagram en het tenslotte het a-t diagram."
      ]
    },
    {
      "cell_type": "code",
      "execution_count": null,
      "metadata": {
        "colab": {
          "base_uri": "https://localhost:8080/",
          "height": 1000
        },
        "id": "S3Td7i3Z_3ZV",
        "outputId": "7dd2c9d1-487d-45e1-f898-de20b72ccf82"
      },
      "outputs": [],
      "source": [
        "plt.figure(figsize=(10,10))\n",
        "plt.plot(tijden, snelheden, 'b')\n",
        "plt.title('De snelheid als functie van de tijd')\n",
        "plt.xlabel('tijd [s]')\n",
        "plt.ylabel('snelheid [m/s]')\n",
        "plt.grid()\n",
        "\n",
        "plt.figure(figsize=(10,10))\n",
        "plt.plot(tijden, hoogten)\n",
        "plt.title('De hoogte als functie van de tijd')\n",
        "plt.xlabel('tijd [s]')\n",
        "plt.ylabel('hoogte [m]')\n",
        "plt.grid()\n",
        "\n",
        "plt.figure(figsize=(10,10))\n",
        "plt.plot(tijden, versnellingen)\n",
        "plt.title('De versnelling als functie van de tijd')\n",
        "plt.xlabel('tijd [s]')\n",
        "plt.ylabel('versnelling [m/s^2]')\n",
        "plt.grid()"
      ]
    },
    {
      "cell_type": "markdown",
      "metadata": {
        "id": "djaRi0EY167e"
      },
      "source": [
        "## Opdracht 1: Model van de val met luchtweerstand\n",
        "Vervolgens ga je nu zelf bedenken hoe je het model aanpast, zodanig dat er wel luchtweerstand is. Pas alleen zaken aan in het model. Voeg ook de de juiste constanten/startwaarden toe. Maak zelf een beredeneerde inschatting van de Cw en het frontale oppervlak van Felix.\n",
        "\n"
      ]
    },
    {
      "cell_type": "code",
      "execution_count": null,
      "metadata": {
        "id": "ZZPXlXa22Gnk"
      },
      "outputs": [],
      "source": [
        "dt = 0.001\n",
        "\n",
        "#constanten:\n",
        "m  = 80 #kg\n",
        "g  = -9.81 #m/s^2\n",
        "A  =   #voeg dit toe\n",
        "cw =   #voeg dit toe\n",
        "\n",
        "#startwaarden:\n",
        "t = 0 #s\n",
        "a = g #m/s^2\n",
        "v = 0 #m/s\n",
        "h = 39045 #m\n",
        "eindtijd =100 #s\n",
        "\n",
        "\n",
        "tijden = [t] # de lijst 'tijden' met een begintijd is gemaakt\n",
        "snelheden = [v] # en 'snelheden'\n",
        "hoogten = [h] # en 'plaatsen' ook\n",
        "versnellingen = [a] # en 'versnellingen' ook\n",
        "\n",
        "while t < eindtijd:\n",
        "    # begin model\n",
        "    t = t + dt\n",
        "    rho =              #voeg dit toe (rare plek, maar dat is express merk je straks)\n",
        "    Fz = m * g\n",
        "    Fw =               #voeg dit toe (kwadraat is ** of gewoon 2 keer *)\n",
        "    Fres = Fz          #pas dit aan\n",
        "    a= Fres / m\n",
        "    dv = a * dt\n",
        "    v = v + dv\n",
        "    dh = v * dt\n",
        "    h = h + dh\n",
        "    # eind model\n",
        "\n",
        "    # begin van het vullen van de lijsten\n",
        "    snelheden.append(v) # voegt een snelheid toe aan de lijst met snelheden.\n",
        "    hoogten.append(h) # voegt een plaats toe aan een lijst met plaatsen.\n",
        "    versnellingen.append(a) # voegt een versnelling toe aan een lijst met versnellingen.\n",
        "    tijden.append(t) # voegt de tijd toe aan een lijst met tijden.\n",
        "    # eind van het vullen van lijsten"
      ]
    },
    {
      "cell_type": "markdown",
      "metadata": {
        "id": "C3xSdkJj5Bbv"
      },
      "source": [
        "Nu maken we grafieken (plotten). Druk op run om ze te laten verschijnen. Eerst het v-t diagram, vervolgens het h-t diagram en het tenslotte het a-t diagram. De rode kruisjes in het h-t diagram geven de werkelijke meetgegevens aan van de val."
      ]
    },
    {
      "cell_type": "code",
      "execution_count": null,
      "metadata": {
        "id": "-ZGutz3H5IpR"
      },
      "outputs": [],
      "source": [
        "plt.figure(figsize=(10,10))\n",
        "plt.plot(tijden, snelheden, 'b')\n",
        "plt.title('De snelheid als functie van de tijd')\n",
        "plt.xlabel('tijd [s]')\n",
        "plt.ylabel('snelheid [m/s]')\n",
        "plt.grid()\n",
        "\n",
        "plt.figure(figsize=(10,10))\n",
        "plt.plot(tijden, hoogten)\n",
        "plt.scatter([33,50,64,180],[33446,27833,22970,7619],marker='x',c='r')\n",
        "plt.title('De hoogte als functie van de tijd')\n",
        "plt.xlabel('tijd [s]')\n",
        "plt.ylabel('hoogte [m]')\n",
        "plt.grid()\n",
        "\n",
        "plt.figure(figsize=(10,10))\n",
        "plt.plot(tijden, versnellingen)\n",
        "plt.title('De versnelling als functie van de tijd')\n",
        "plt.xlabel('tijd [s]')\n",
        "plt.ylabel('versnelling [m/s^2]')\n",
        "plt.grid()"
      ]
    },
    {
      "cell_type": "markdown",
      "metadata": {
        "id": "rGukiQLfCjhv"
      },
      "source": [
        "## Opdracht 2: Model van de val met variabele luchtdichtheid\n",
        "In de model dat je hierboven hebt gemaakt ga je ervan uit dat de luchtdichtheid een constante is. In werkelijkheid is de luchtdichtheid echter afhankelijk van de hoogte. Een model wordt gegeven door de volgende formule:\n",
        "\n",
        "rho = 1.225 * (39045-h)/h\n",
        "\n",
        "Pas je model hierboven zodanig aan, dat de luchtweerstand afhankelijk is van deze variabele luchtweerstand. Test de wijzigingen aan je model door de grafieken opniew te plotten.\n",
        "\n"
      ]
    },
    {
      "cell_type": "markdown",
      "metadata": {
        "id": "tbQk5NniGZRa"
      },
      "source": [
        "## Opdracht 3: Model van de val met realistische luchtdichtheid\n",
        "In de formule in de opdracht hierboven wordt een benadering gegeven van de luchtdichtheid, met een afhankelijkheid van de hoogte.\n",
        "De verandering van de luchtdichtheid kan echter beter worden uitgedrukt als functie van de druk en de temperatuur. Zie Binas tabel 30F. Door dit mee te nemen in het model, wordt een realistischer model verkregen.\n",
        "In de figuur hieronder is een model van Nasa te zien, waarbij de atmosfeer wordt opgedeeld in drie zones. <br>\n",
        "![alt text](https://www.grc.nasa.gov/WWW/K-12/airplane/Images/atmosmet.gif)\n",
        "<br>\n",
        "Je gaat nu dit model van Nasa toevoegen aan je model hierboven.\n",
        "Hieronder volgen de tips hoe je dit doet:\n",
        "<br>\n",
        "Tip 1: Je zal deze tabel letterlijk moeten overnemen. In de programmeertaal Python schrijf je “tot de macht” (“^”) als “**” (twee sterretjes).\n",
        "<br>\n",
        "Tip 2: De drie lagen programmeer je met behulp van zogenaamde condities:\n",
        "<br>\n",
        "Als de hoogte hoger is dan 25.000 m dan bereken je druk en temperatuur zo…<br>\n",
        "Als de hoogte tussen de 11.000 en 25.000 m is dan bereken je druk en temperatuur zo…<br>\n",
        "Als de hoogte lager is dan 11.000 m is dan bereken je druk en temperatuur zo…<br>\n",
        "Tenslotte: met de druk en temperatuur bereken je de luchtdichtheid zo...<br>\n",
        "\n",
        "Programmeertechnisch schrijf je dit zo op:\n",
        "```\n",
        "if h > 25000:\n",
        "  T = ..\n",
        "  p = ..\n",
        "if 11000 < h < 25000:\n",
        "  T = ..\n",
        "  p = ..\n",
        "if h < 11000:\n",
        "  T = ..\n",
        "  p = ..\n",
        "\n",
        "rho = p / (0.2869 * (T + 273.1))\n",
        "```\n",
        "Bij iedere conditie is het noodzakelijk om vóór iedere nieuwe regel een witruimte (één tab of één spatie) toe te voegen. Daardoor weet de computer wat bij welke conditie hoort!\n",
        "\n",
        "\n",
        "\n"
      ]
    },
    {
      "cell_type": "markdown",
      "metadata": {
        "id": "NcpmSLsaN-jd"
      },
      "source": [
        "## Opdracht 4: Voorspellen met het model\n",
        "Nu gaan wij de luchtweerstandscoëfficiënt (cw) nauwkeurig bepalen. Als je in het model invoert dat Felix 100 kg weegt en zijn frontaal oppervlak gemiddeld 0.8 m2 is, dan zal de uitkomst van het model niet precies overeenkomen met de meetgegevens (de rode kruisjes in de grafiek). Dit komt omdat je de cw-coëfficiënt in opdracht 4 alleen maar hebt kunnen inschatten. <br>\n",
        "Pas nu de cw-coëfficiënt zodanig aan dat het model overeenkomt met de meetgegevens. Je zult hiervoor “Trial and Error” moeten toepassen. <br><br>\n",
        "\n",
        "a) Welke grootte heeft de cw-coëfficiënt van Felix tijdens zijn sprong? <br>\n",
        "b) Er bestaat een tabel met bekende luchtweerstandscoëfficiënten. Komt de gevonden waarde uit (a) overeen met wat je zou verwachten op grond van de tabel?<br>\n",
        "c) Maakt de grootte van de massa van Felix nog uit voor de duur van zijn val? Vergelijk je antwoord met de beroemde valproef van Galileo Galilei op de toren van Pisa. <br>"
      ]
    },
    {
      "cell_type": "markdown",
      "metadata": {
        "id": "CgDsxvvP6vga"
      },
      "source": [
        "## Opdracht 5: Model van de val met parachute\n",
        "Bovenstaand model ga je aanvullen met een parachute die opent, zodat Felix niet te pletter valt. Maak het model van de val nog realistischer door ook de opening van de parachute in het model te verwerken.\n",
        "<br>\n",
        "Op een hoogte van 2450 m opent Felix zijn parachute. Hij landt op een berg van 1360 m hoogte. Het oppervlak van de parachute is 45 m2 en de luchtweerstandscoëfficiënt van de parachute is 1.75.\n",
        "<br>\n",
        "Voeg modelregels toe die het openen van de parachute beschrijven en bekijk het resultaat.\n"
      ]
    }
  ],
  "metadata": {
    "colab": {
      "provenance": []
    },
    "kernelspec": {
      "display_name": "Python 3",
      "name": "python3"
    }
  },
  "nbformat": 4,
  "nbformat_minor": 0
}
