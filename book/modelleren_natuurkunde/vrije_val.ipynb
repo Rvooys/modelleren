{
 "cells": [
  {
   "cell_type": "markdown",
   "metadata": {},
   "source": [
    "# Een eenvoudig model in Python: De Vrije Val\n",
    "Het notebook (deze omgeving) voor een model bestaat uit een aantal blokken of stappen. Loop de blokken stap voor stap door. Om ze af te spelen (te runnen): Bovenin zie je een raketje (Live Code), als je daarop klikt, en een tijdje wacht, kun je de python modelcode *runnen*.\n",
    "<br>\n",
    "Hieronder volgt het eerste code blok. Om verder te gaan moet je telkens op *run* knopje drukken. Vervolgens kan je weer verder naar het blok eronder.\n",
    "\n",
    "**Ten opzichte van het vorige hoofdstuk zie je hier een aantal extra stappen, die nodig zijn om het model uit te voeren en grafieken te maken.**\n",
    "\n",
    "## **Stap 1: Bibliotheken importeren**\n",
    "In het code blok hieronder worden eerst enkele noodzakelijke bibliotheken geïmporteerd. Alles achter de # in het groen is commentaar en dus uitleg. Druk nu dus op *run*."
   ]
  },
  {
   "cell_type": "code",
   "execution_count": null,
   "metadata": {},
   "outputs": [],
   "source": [
    "import numpy as np              #importeer bibliotheek numpy\n",
    "import matplotlib.pyplot as plt #importeer matplot"
   ]
  },
  {
   "cell_type": "markdown",
   "metadata": {},
   "source": [
    "Als je het wieltje kort ziet draaien dan heeft de Python Interpreter de bibliotheek packages ingeladen en is het dus gelukt."
   ]
  },
  {
   "cell_type": "markdown",
   "metadata": {},
   "source": [
    "## **Stap 2: Definiëren van variabelen en startwaarden**\n",
    "We maken eerst een eenvoudig model van een vrije val, dus zonder luchtweerstand. Bij dit model zijn de volgende startwaarden nodig: (druk op run)"
   ]
  },
  {
   "cell_type": "code",
   "execution_count": null,
   "metadata": {},
   "outputs": [],
   "source": [
    "dt = 0.001 #tijdstap\n",
    "\n",
    "#constanten:\n",
    "m  = 80 #kg\n",
    "g  = -9.81 #m/s^2\n",
    "\n",
    "#startwaarden:\n",
    "t = 0 #s\n",
    "a = g #m/s^2\n",
    "v = 0 #m/s\n",
    "h = 100 #m\n",
    "\n",
    "eindtijd =10 #s\n"
   ]
  },
  {
   "cell_type": "markdown",
   "metadata": {},
   "source": [
    "## **Stap 3: Maken van lege lijsten voor grafieken**\n",
    "De lijsten worden aangemaakt om de waarden op te slaan:"
   ]
  },
  {
   "cell_type": "code",
   "execution_count": null,
   "metadata": {},
   "outputs": [],
   "source": [
    "tijden = [t] # de lijst 'tijden' met een begintijd is gemaakt\n",
    "snelheden = [v] # en 'snelheden'\n",
    "hoogten = [h] # en 'plaatsen' ook\n",
    "versnellingen = [a] # en 'versnellingen' ook"
   ]
  },
  {
   "cell_type": "markdown",
   "metadata": {},
   "source": [
    "\n",
    "\n",
    "tijden = [t] → Tijdstippen worden hier opgeslagen.\n",
    "snelheden = [v] → Snelheden worden hier opgeslagen.\n",
    "hoogten = [h] → Hoogtes worden hier opgeslagen.\n",
    "versnellingen = [a] → Versnellingen worden hier opgeslagen.\n",
    "Dit helpt later bij het plotten van de resultaten.\n",
    "We willen later grafieken voor de snelheid en de plaats als functie van de tijd maken. Hiervoor moeten eerst (lege) lijsten (tabellen) gemaakt worden.\n"
   ]
  },
  {
   "cell_type": "markdown",
   "metadata": {},
   "source": [
    "## **Stap 4: De modelregels met while-lus**\n",
    "<br>Het model wordt in het code blok hieronder heel duidelijk aangegeven door #begin model en #eind model. Dit zijn de eigenlijke modelregels, dit zou je moeten begrijpen, en dit is de plek waar je later dingen kan aanpassen, en nergens anders. Let erop dat alles netjes onder elkaar blijft staan (of evenver inspringt). Bekijk het code blok en druk vervolgens op het run knopje.\n",
    "\n",
    "**EN**\n",
    "\n",
    "## **Stap 5: Opslaan van de nieuwe waarden in de lijsten**\n",
    "Als het object nog niet op de grond is, worden de nieuwe waarden toegevoegd aan de lijsten. Dit gebeurt elke stap, zodat je later een grafiek kunt maken."
   ]
  },
  {
   "cell_type": "code",
   "execution_count": null,
   "metadata": {},
   "outputs": [],
   "source": [
    "while t < eindtijd:\n",
    "    # begin model\n",
    "    t = t + dt\n",
    "    Fz = m * g\n",
    "    Fres = Fz\n",
    "    a= Fres / m\n",
    "    dv = a * dt\n",
    "    v = v + dv\n",
    "    dh = v * dt\n",
    "    h = h + dh\n",
    "    if h<=0:  # als ....\n",
    "      break   # dan stop eindals\n",
    "    # eind model\n",
    "\n",
    "    ## Dit is dus stap 4\n",
    "    # begin van het vullen van de lijsten\n",
    "    snelheden.append(v) # voegt een snelheid toe aan de lijst met snelheden.\n",
    "    hoogten.append(h) # voegt een plaats toe aan een lijst met plaatsen.\n",
    "    versnellingen.append(a) # voegt een versnelling toe aan een lijst met versnellingen.\n",
    "    tijden.append(t) # voegt de tijd toe aan een lijst met tijden.\n",
    "    # eind van het vullen van lijsten"
   ]
  },
  {
   "cell_type": "markdown",
   "metadata": {},
   "source": [
    "## **Stap 6: Grafieken maken**\n",
    "Nu maken we grafieken (plotten). Druk op run om ze te laten verschijnen. Eerst het h-t diagram en vervolgens het v-t diagram. Je herkent de namen van de lijsten in het plt.plot commando terug!"
   ]
  },
  {
   "cell_type": "code",
   "execution_count": null,
   "metadata": {},
   "outputs": [],
   "source": [
    "plt.figure(figsize=(5,5))\n",
    "plt.plot(tijden, hoogten,'r') # r staat voor red\n",
    "plt.ylim(bottom=0) # oorsprong (0,0) links onder\n",
    "plt.xlim(0)\n",
    "plt.title('De hoogte als functie van de tijd')\n",
    "plt.xlabel('tijd [s]')\n",
    "plt.ylabel('hoogte [m]')\n",
    "plt.grid()\n",
    "\n",
    "plt.figure(figsize=(5,5))\n",
    "plt.plot(tijden, snelheden, 'b') # b staat voor blue\n",
    "#plt.ylim(top=0) # oorsprong (0,0) links boven\n",
    "#plt.xlim(0)\n",
    "plt.title('De snelheid als functie van de tijd')\n",
    "plt.xlabel('tijd [s]')\n",
    "plt.ylabel('snelheid [m/s]')\n",
    "plt.grid()"
   ]
  },
  {
   "cell_type": "markdown",
   "metadata": {},
   "source": [
    "## **Opdrachten** \n",
    "Bekijk de grafieken en het model en beantwoord de volgende vragen:\n",
    "<br>a) Leg uit waarom de snelheid negatief is. Leg je antwoord uit aan de hand van model!"
   ]
  },
  {
   "cell_type": "markdown",
   "metadata": {},
   "source": [
    "b) Leg uit waarom de h-t grafiek stopt bij 0 m. Leg je antwoord uit aan de hand van het model!"
   ]
  },
  {
   "cell_type": "markdown",
   "metadata": {},
   "source": [
    "c) Probeer het model zodanig aan te passen dat de v-t grafiek omhoog loopt, startend vanuit de oorsprong (de h-t grafiek blijft onveranderd).\n",
    "<br><br>\n",
    "**Bij elke verandering moeten de code-blokken opnieuw worden uitgevoerd!\n",
    "Dat kan in één keer met *run all***\n"
   ]
  }
 ],
 "metadata": {
  "language_info": {
   "name": "python"
  }
 },
 "nbformat": 4,
 "nbformat_minor": 2
}
