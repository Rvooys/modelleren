{
 "cells": [
  {
   "cell_type": "markdown",
   "metadata": {},
   "source": [
    "# Een Model Stap-Voor-Stap\n",
    "\n",
    "Hieronder is een voorbeeld te vinden van een numeriek model, kortweg model genoemd. Het betreft een vrije val. \n",
    "Hier is een stap-voor-stap uitleg van wat er gebeurt in het model:"
   ]
  },
  {
   "cell_type": "markdown",
   "metadata": {},
   "source": [
    "## **Stap 1: Definiëren van variabelen en startwaarden**"
   ]
  },
  {
   "cell_type": "code",
   "execution_count": null,
   "metadata": {
    "vscode": {
     "languageId": "plaintext"
    }
   },
   "outputs": [],
   "source": [
    "dt = 0.001 #tijdstap\n",
    "\n",
    "#constanten:\n",
    "m  = 80 #kg\n",
    "g  = -9.81 #m/s^2\n",
    "\n",
    "#startwaarden:\n",
    "t = 0 #s\n",
    "a = g #m/s^2\n",
    "v = 0 #m/s\n",
    "h = 100 #m\n",
    "\n",
    "eindtijd =10 #s\n",
    "\n",
    "\n"
   ]
  },
  {
   "cell_type": "markdown",
   "metadata": {},
   "source": [
    "- `dt = 0.001`: Dit is de tijdstap. Het model rekent telkens met kleine stapjes van 0.001 seconden.\n",
    "- **Constanten**:\n",
    "  - `m = 80` kg → De massa van het object.\n",
    "  - `g = -9.81` m/s² → De zwaartekrachtsversnelling (negatief omdat de val naar beneden gaat).\n",
    "- **Startwaarden**:\n",
    "  - `t = 0` → De begintijd is 0 seconden.\n",
    "  - `a = g` → De versnelling is in het begin gelijk aan de zwaartekracht, omdat er geen andere krachten zijn.\n",
    "  - `v = 0` → De beginsnelheid is 0 m/s.\n",
    "  - `h = 100` → De beginhoogte is 100 meter.\n",
    "- `eindtijd = 10` → Het model stopt na 10 seconden, tenzij het object eerder de grond raakt."
   ]
  },
  {
   "cell_type": "code",
   "execution_count": null,
   "metadata": {
    "vscode": {
     "languageId": "plaintext"
    }
   },
   "outputs": [],
   "source": [
    "## **Stap 2: De simulatie met een `while`-lus**"
   ]
  },
  {
   "cell_type": "code",
   "execution_count": null,
   "metadata": {
    "vscode": {
     "languageId": "plaintext"
    }
   },
   "outputs": [],
   "source": [
    "while t < eindtijd:\n",
    "    # begin model\n",
    "    t = t + dt\n",
    "    Fz = m * g\n",
    "    Fres = Fz\n",
    "    a= Fres / m\n",
    "    dv = a * dt\n",
    "    v = v + dv\n",
    "    dh = v * dt\n",
    "    h = h + dh\n",
    "    if h<=0:  # als ....\n",
    "      break   # dan stop eindals\n",
    "    # eind model"
   ]
  },
  {
   "cell_type": "markdown",
   "metadata": {},
   "source": [
    "\n",
    "De `while`-lus blijft doorgaan zolang `t < eindtijd`. Binnen deze lus wordt stap voor stap berekend wat er met het object gebeurt.\n",
    "\n",
    "1. **Tijd bijwerken**  \n",
    "   `t = t + dt`  \n",
    "   De tijd wordt telkens met `dt` (0.001 s) verhoogd.\n",
    "\n",
    "2. **Krachten berekenen**  \n",
    "   `Fz = m * g`  \n",
    "   Dit is de zwaartekracht (Newton’s tweede wet: F = m * a).  \n",
    "   `Fres = Fz`  \n",
    "   Er is geen andere kracht (zoals luchtweerstand), dus de resulterende kracht is alleen de zwaartekracht.\n",
    "\n",
    "3. **Versnelling berekenen**  \n",
    "   `a = Fres / m`  \n",
    "   De versnelling wordt berekend met Newton’s tweede wet: a = F/m. Hier blijft `a = g` omdat er geen andere krachten zijn.\n",
    "\n",
    "4. **Snelheid bijwerken**  \n",
    "   `dv = a * dt`  \n",
    "   De verandering in snelheid (`dv`) wordt bepaald door de versnelling maal de tijdstap.  \n",
    "   `v = v + dv`  \n",
    "   De snelheid wordt bijgewerkt.\n",
    "\n",
    "5. **Hoogte bijwerken**  \n",
    "   `dh = v * dt`  \n",
    "   De verandering in hoogte (`dh`) wordt bepaald door de snelheid maal de tijdstap.  \n",
    "   `h = h + dh`  \n",
    "   De hoogte wordt aangepast.\n",
    "\n",
    "6. **Check of het object de grond raakt**  \n",
    "   `if h <= 0:`  \n",
    "   Als de hoogte `h` nul of kleiner is (het object heeft de grond bereikt), stopt de simulatie met `break`.\n",
    "\n",
    "\n",
    "## **Conclusie**\n",
    "Dit model simuleert een object dat vanaf 100 meter hoogte naar beneden valt onder invloed van de zwaartekracht. De hoogte, snelheid en versnelling worden in kleine stapjes berekend en opgeslagen, totdat het object de grond bereikt of de eindtijd is bereikt.\n",
    "\n",
    "Wil je ook een grafiek maken van de valbeweging? 🚀 Ga dan naar het volgende hoofdstuk."
   ]
  }
 ],
 "metadata": {
  "language_info": {
   "name": "python"
  }
 },
 "nbformat": 4,
 "nbformat_minor": 2
}
